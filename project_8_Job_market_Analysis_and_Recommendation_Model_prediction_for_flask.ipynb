{
  "nbformat": 4,
  "nbformat_minor": 0,
  "metadata": {
    "colab": {
      "provenance": []
    },
    "kernelspec": {
      "name": "python3",
      "display_name": "Python 3"
    },
    "language_info": {
      "name": "python"
    }
  },
  "cells": [
    {
      "cell_type": "markdown",
      "source": [
        "#Data Preprocessing"
      ],
      "metadata": {
        "id": "0lAXs7MECU55"
      }
    },
    {
      "cell_type": "code",
      "source": [
        "import pandas as pd\n",
        "from sklearn.feature_extraction.text import TfidfVectorizer\n",
        "from sklearn.ensemble import RandomForestRegressor\n",
        "from sklearn.pipeline import Pipeline\n",
        "from sklearn.model_selection import train_test_split\n",
        "from sklearn.metrics import mean_squared_error\n",
        "import joblib\n",
        "\n",
        "# Step 1: Load the Dataset\n",
        "Jobs_data = pd.read_csv(\"/content/all_upwork_jobs_next.csv\")\n",
        "\n",
        "# Step 2: Inspect the Dataset\n",
        "print(Jobs_data.head())\n",
        "print(Jobs_data.info())\n"
      ],
      "metadata": {
        "colab": {
          "base_uri": "https://localhost:8080/"
        },
        "id": "qu-IIuPldJg_",
        "outputId": "6a3f7f9a-0406-472a-bc44-3e79c868f38d"
      },
      "execution_count": null,
      "outputs": [
        {
          "output_type": "stream",
          "name": "stdout",
          "text": [
            "   Unnamed: 0                                              title  \\\n",
            "0           0  experienced media buyer for solar pannel and r...   \n",
            "1           1                               full stack developer   \n",
            "2           2                                    smma bubble app   \n",
            "3           3             talent hunter specialized in marketing   \n",
            "4           4                                      data engineer   \n",
            "\n",
            "                                                link  \\\n",
            "0  https://www.upwork.com/jobs/Experienced-Media-...   \n",
            "1  https://www.upwork.com/jobs/Full-Stack-Develop...   \n",
            "2  https://www.upwork.com/jobs/SMMA-Bubble-App_%7...   \n",
            "3  https://www.upwork.com/jobs/Talent-Hunter-Spec...   \n",
            "4  https://www.upwork.com/jobs/Data-Engineer_%7E0...   \n",
            "\n",
            "              published_date  is_hourly  hourly_low  hourly_high       budget  \\\n",
            "0  2024-02-17 09:09:54+00:00      False   17.339644    41.970610   500.000000   \n",
            "1  2024-02-17 09:09:17+00:00      False   17.339644    41.970610  1100.000000   \n",
            "2  2024-02-17 09:08:46+00:00       True   11.490534    37.044085    20.000000   \n",
            "3  2024-02-17 09:08:08+00:00       True   17.339644    41.970610   481.720824   \n",
            "4  2024-02-17 09:07:42+00:00      False   17.339644    41.970610   650.000000   \n",
            "\n",
            "         country  avg_salary       salary  average_hourly category year_month  \\\n",
            "0        Unknown   29.655127   500.000000       29.655127    Other    2024-02   \n",
            "1  United States   29.655127  1100.000000       29.655127    Other    2024-02   \n",
            "2  United States   28.783264    20.000000       24.267310    Other    2024-02   \n",
            "3  United States   29.655127   481.720824       29.655127    Other    2024-02   \n",
            "4          India   29.655127   650.000000       29.655127    Other    2024-02   \n",
            "\n",
            "   month  year month_year  \n",
            "0      2  2024    2024-02  \n",
            "1      2  2024    2024-02  \n",
            "2      2  2024    2024-02  \n",
            "3      2  2024    2024-02  \n",
            "4      2  2024    2024-02  \n",
            "<class 'pandas.core.frame.DataFrame'>\n",
            "RangeIndex: 244828 entries, 0 to 244827\n",
            "Data columns (total 17 columns):\n",
            " #   Column          Non-Null Count   Dtype  \n",
            "---  ------          --------------   -----  \n",
            " 0   Unnamed: 0      244828 non-null  int64  \n",
            " 1   title           244828 non-null  object \n",
            " 2   link            244828 non-null  object \n",
            " 3   published_date  244828 non-null  object \n",
            " 4   is_hourly       244828 non-null  bool   \n",
            " 5   hourly_low      244828 non-null  float64\n",
            " 6   hourly_high     244828 non-null  float64\n",
            " 7   budget          244828 non-null  float64\n",
            " 8   country         244828 non-null  object \n",
            " 9   avg_salary      244828 non-null  float64\n",
            " 10  salary          244828 non-null  float64\n",
            " 11  average_hourly  244828 non-null  float64\n",
            " 12  category        244828 non-null  object \n",
            " 13  year_month      244828 non-null  object \n",
            " 14  month           244828 non-null  int64  \n",
            " 15  year            244828 non-null  int64  \n",
            " 16  month_year      244828 non-null  object \n",
            "dtypes: bool(1), float64(6), int64(3), object(7)\n",
            "memory usage: 30.1+ MB\n",
            "None\n"
          ]
        }
      ]
    },
    {
      "cell_type": "code",
      "source": [
        "print(Jobs_data.columns)"
      ],
      "metadata": {
        "colab": {
          "base_uri": "https://localhost:8080/"
        },
        "id": "SqL6kVDHfa0B",
        "outputId": "c402936e-e53a-48ef-bf6c-4765b167188b"
      },
      "execution_count": null,
      "outputs": [
        {
          "output_type": "stream",
          "name": "stdout",
          "text": [
            "Index(['Unnamed: 0', 'title', 'link', 'published_date', 'is_hourly',\n",
            "       'hourly_low', 'hourly_high', 'budget', 'country', 'avg_salary',\n",
            "       'salary', 'average_hourly', 'category', 'year_month', 'month', 'year',\n",
            "       'month_year'],\n",
            "      dtype='object')\n"
          ]
        }
      ]
    },
    {
      "cell_type": "code",
      "source": [
        "# Select feature and target columns\n",
        "X = Jobs_data['budget']  # Replace with the actual column name for text data\n",
        "y = Jobs_data['avg_salary']  # Replace with the actual column name for the target\n",
        "\n",
        "# Convert the 'title' column to string type to avoid errors with TfidfVectorizer\n",
        "X = X.astype(str)\n",
        "\n",
        "# Split the dataset into training and testing sets\n",
        "X_train, X_test, y_train, y_test = train_test_split(X, y, test_size=0.2, random_state=42)\n"
      ],
      "metadata": {
        "id": "QonHJ3c1fHe4"
      },
      "execution_count": null,
      "outputs": []
    },
    {
      "cell_type": "code",
      "source": [
        "# Define a pipeline with TfidfVectorizer and RandomForestRegressor\n",
        "pipeline = Pipeline([\n",
        "    ('tfidf', TfidfVectorizer(max_features=5000)),  # Convert text to numerical features\n",
        "    ('regressor', RandomForestRegressor(n_estimators=100, random_state=42))  # Regression model\n",
        "])\n"
      ],
      "metadata": {
        "id": "sztw95Cjfoj2"
      },
      "execution_count": null,
      "outputs": []
    },
    {
      "cell_type": "code",
      "source": [
        "# Fit the pipeline on the training data\n",
        "pipeline.fit(X_train, y_train)\n",
        "\n",
        "# Save the trained model for later use\n",
        "joblib.dump(pipeline, 'job_prediction_model.pkl')\n",
        "print(\"Model saved as 'job_prediction_model.pkl'\")\n"
      ],
      "metadata": {
        "colab": {
          "base_uri": "https://localhost:8080/"
        },
        "id": "whakqEUVfuyU",
        "outputId": "44ae0266-08a0-492a-e419-9583ed5692ca"
      },
      "execution_count": null,
      "outputs": [
        {
          "output_type": "stream",
          "name": "stdout",
          "text": [
            "Model saved as 'job_prediction_model.pkl'\n"
          ]
        }
      ]
    },
    {
      "cell_type": "code",
      "source": [
        "# Predict on the test set\n",
        "y_pred = pipeline.predict(X_test)\n",
        "\n",
        "# Calculate and display performance metrics\n",
        "mse = mean_squared_error(y_test, y_pred)\n",
        "print(f\"Mean Squared Error: {mse}\")\n"
      ],
      "metadata": {
        "colab": {
          "base_uri": "https://localhost:8080/"
        },
        "id": "_ZBRpRz5gUPF",
        "outputId": "983a5880-2931-4be9-e0ff-73cf733c0173"
      },
      "execution_count": null,
      "outputs": [
        {
          "output_type": "stream",
          "name": "stdout",
          "text": [
            "Mean Squared Error: 0.22620425784464843\n"
          ]
        }
      ]
    },
    {
      "cell_type": "code",
      "source": [
        "# Load the trained model\n",
        "loaded_model = joblib.load('job_prediction_model.pkl')\n",
        "\n",
        "# Predict for new data\n",
        "new_jobs = [\"Looking for a Python developer with experience in Flask and APIs.\"]\n",
        "predictions = loaded_model.predict(new_jobs)\n",
        "print(\"Predictions for new jobs:\", predictions)\n"
      ],
      "metadata": {
        "colab": {
          "base_uri": "https://localhost:8080/"
        },
        "id": "jZ-quLSKgUx0",
        "outputId": "a7df5e12-fb08-4d28-908b-f37b7197c2d9"
      },
      "execution_count": null,
      "outputs": [
        {
          "output_type": "stream",
          "name": "stdout",
          "text": [
            "Predictions for new jobs: [29.06996535]\n"
          ]
        }
      ]
    },
    {
      "cell_type": "code",
      "source": [
        "import joblib\n",
        "\n",
        "# Save the model using the correct variable name (pipeline)\n",
        "joblib.dump(pipeline, 'budget_predictor_model.pkl')"
      ],
      "metadata": {
        "colab": {
          "base_uri": "https://localhost:8080/"
        },
        "id": "Sci-wB7Yg49A",
        "outputId": "49baad7a-62cf-491a-a943-3b9251fb054b"
      },
      "execution_count": null,
      "outputs": [
        {
          "output_type": "execute_result",
          "data": {
            "text/plain": [
              "['budget_predictor_model.pkl']"
            ]
          },
          "metadata": {},
          "execution_count": 24
        }
      ]
    },
    {
      "cell_type": "code",
      "source": [
        "from sklearn.model_selection import train_test_split\n",
        "from sklearn.ensemble import RandomForestRegressor\n",
        "from sklearn.metrics import mean_squared_error\n",
        "from sklearn.preprocessing import OneHotEncoder\n",
        "import pandas as pd\n",
        "\n",
        "# Assuming 'Jobs_data' is your DataFrame\n",
        "# ... (your code to load Jobs_data) ...\n",
        "\n",
        "# Define features and target\n",
        "X = Jobs_data.drop(columns=['title', 'link', 'published_date', 'budget'])\n",
        "y = Jobs_data['budget']\n",
        "\n",
        "# Identify categorical features (columns with string values)\n",
        "categorical_features = X.select_dtypes(include=['object']).columns\n",
        "\n",
        "# Create a OneHotEncoder instance\n",
        "encoder = OneHotEncoder(sparse_output=False, handle_unknown='ignore')  # sparse=False for compatibility with RandomForestRegressor\n",
        "\n",
        "# Fit the encoder to the categorical features and transform them\n",
        "encoded_features = encoder.fit_transform(X[categorical_features])\n",
        "\n",
        "# Create a DataFrame from the encoded features\n",
        "encoded_df = pd.DataFrame(encoded_features, columns=encoder.get_feature_names_out(categorical_features))\n",
        "\n",
        "# Drop the original categorical features and concatenate the encoded features\n",
        "X = X.drop(columns=categorical_features)\n",
        "X = pd.concat([X, encoded_df], axis=1)\n",
        "\n",
        "# Split data into training and testing sets\n",
        "X_train, X_test, y_train, y_test = train_test_split(X, y, test_size=0.2, random_state=42)\n",
        "\n",
        "# Initialize and train the model\n",
        "model = RandomForestRegressor(n_estimators=100, random_state=42)\n",
        "model.fit(X_train, y_train)\n",
        "\n",
        "# Predict and evaluate the model\n",
        "y_pred = model.predict(X_test)\n",
        "mse = mean_squared_error(y_test, y_pred)\n",
        "print(f'Mean Squared Error: {mse}')"
      ],
      "metadata": {
        "colab": {
          "base_uri": "https://localhost:8080/"
        },
        "id": "VtOHJCyzh_vN",
        "outputId": "82454733-256b-4e73-d738-5620605c769c"
      },
      "execution_count": null,
      "outputs": [
        {
          "output_type": "stream",
          "name": "stdout",
          "text": [
            "Mean Squared Error: 0.005648565841604368\n"
          ]
        }
      ]
    },
    {
      "cell_type": "code",
      "source": [],
      "metadata": {
        "id": "ycxxPyS2iAlw"
      },
      "execution_count": null,
      "outputs": []
    }
  ]
}